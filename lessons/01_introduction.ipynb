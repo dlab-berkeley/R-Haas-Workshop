{
 "cells": [
  {
   "cell_type": "markdown",
   "id": "9af42e1e-d6cd-4b20-82a4-2ed0117a3aae",
   "metadata": {
    "tags": []
   },
   "source": [
    "# R Haas Departmental Workshop\n",
    "\n",
    "The goal of this Departmental Workshop is to provide a light introduction to R. We aim to build up to data frames, which are one of the most commonly used data structures in R."
   ]
  },
  {
   "cell_type": "markdown",
   "id": "607ddc51-fd64-4e83-a77e-efc34bd18ab7",
   "metadata": {},
   "source": [
    "## Jupyter Notebooks\n",
    "\n",
    "This course will be using a Jupyter Notebook to interact with R.  The bit of extra setup is well worth it because the Notebook provides code completion and other helpful features.\n",
    "\n",
    "Notebook files have the extension \".ipynb\" to distinguish them from other Python (e.g., \".py\") files.\n",
    "\n",
    "\n",
    "### Open Jupyter Notebook on Haas DataHub\n",
    "\n",
    "We *strongly* recommend using either the DataHub to run the materials for these lessons. You can access either DataHub by clicking this button:\n",
    "\n",
    "[![D-Lab DataHub](https://img.shields.io/badge/launch-D--Lab%20datahub-blue)](https://dlab.datahub.berkeley.edu/hub/user-redirect/git-pull?repo=https%3A%2F%2Fgithub.com%2Fdlab-berkeley%2FR-Haas-Workshop&urlpath=tree%2FR-Haas-Workshop%2Flessons%2F01_introduction.ipynb&branch=main)\n",
    "\n",
    "Some users may have to click the link twice if the materials do not load initially.\n",
    "\n",
    "The DataHub downloads this repository, along with any necessary packages, and allows you to run the materials in an instance on UC Berkeley's servers. No installation is needed from your end - you only need an internet browser and a CalNet ID to log in. By using the DataHub, you can save your work and come back to it at any time.\n",
    "\n",
    "### Navigating in Jupyter Notebook\n",
    "\n",
    "Jupyter Notebooks have more useful features for interactive use than a standard interpreter, but they work in the same basic way: you type things and then execute them.\n",
    "\n",
    "Unlike many graphical systems, you don't need to press a button to run your code! Instead, **you typically run code using Shift-Enter**. This also moves you to the next box (or \"cell\") for code below the one you just ran.\n",
    "\n",
    "Using Jupyter notebooks has several advantages:\n",
    "\n",
    "- You can easily type, edit, and copy and paste blocks of code.\n",
    "- Tab complete allows you to easily access the names of things you are using and learn more about them.\n",
    "- It allows you to annotate your code with links, different sized text, bullets, etc., to make it more accessible to you and your collaborators.\n",
    "- It allows you to display figures next to the code that produces them to tell a complete story of the analysis.\n",
    "- The notebook is stored as JSON but can be saved as a .py file if you would like to run it from the Bash shell or a Python interpreter."
   ]
  },
  {
   "cell_type": "markdown",
   "id": "01a67f02-36b5-41ba-967a-bc318b55fe0b",
   "metadata": {
    "tags": []
   },
   "source": [
    "## Variable Assignment\n",
    "\n",
    "Variables are objects that hold values. Variables can be inside data sets (like columns in an excel sheet) or stand alone objects. The syntax for creating a variable is:\n",
    "\n",
    "-   Left hand side is the variable name\n",
    "\n",
    "-   Next is the **assignment** **operator**: `<-`\n",
    "\n",
    "-   Right hand side is the value to assign to that variable\n"
   ]
  },
  {
   "cell_type": "code",
   "execution_count": null,
   "id": "3bdf4a6c-6013-4655-85d7-e85426be39c8",
   "metadata": {},
   "outputs": [],
   "source": [
    "# A variable that gives the year \n",
    "year <- 2023"
   ]
  },
  {
   "cell_type": "code",
   "execution_count": null,
   "id": "0f7e4282-41c1-48f6-88df-f9ce583a7ebe",
   "metadata": {},
   "outputs": [],
   "source": [
    "# Print out the value\n",
    "year"
   ]
  },
  {
   "cell_type": "code",
   "execution_count": null,
   "id": "248b7094-601f-4f08-bcd9-f8b2c8fc6422",
   "metadata": {},
   "outputs": [],
   "source": [
    "# You can also use the '=' operator to do variable assignment. \n",
    "number = 5"
   ]
  },
  {
   "cell_type": "markdown",
   "id": "e7feb352-8847-4a15-ba65-60aac0ed04b1",
   "metadata": {},
   "source": [
    "There are subtle differences between `<-` and `=`, which won't matter in most cases. However, using `<-` is considered good code style. You want your code to adhere to good stylistic practices, since that makes it easier to read and use by other users.\n",
    "\n",
    "We can read the above code as \"create a variable called `year` and assign to it the value 2023\".\n",
    "\n",
    "Variables can hold different types of values."
   ]
  },
  {
   "cell_type": "code",
   "execution_count": null,
   "id": "4014839b-48d8-496c-8eec-83573813ad09",
   "metadata": {},
   "outputs": [],
   "source": [
    "# Assign a numeric value to the variable year\n",
    "year <- 2023\n",
    "\n",
    "# Assign a character value to the variable country\n",
    "country <- \"Mexico\"\n",
    "\n",
    "# Assign a numeric value to the variable lifeexp\n",
    "lifeexp <- 76.2"
   ]
  },
  {
   "cell_type": "markdown",
   "id": "e654914b-f52a-4b5b-a5e3-74b8c263ba18",
   "metadata": {},
   "source": [
    "Use a hashtag to comment your code (e.g., write notes to your future self and your collaborators) to help keep your script organized. "
   ]
  },
  {
   "cell_type": "markdown",
   "id": "421a9fd9-62e1-4acd-8a7c-a3352b136df6",
   "metadata": {},
   "source": [
    "## 🥊 Challenge 1\n",
    "\n",
    "Create a variable called `continent` and assign it the value \"Americas\". Create variable called `pop` and assign it the value 4.5."
   ]
  },
  {
   "cell_type": "code",
   "execution_count": null,
   "id": "bc1fd80a-022b-4131-bdbe-fa5cbe3341cc",
   "metadata": {},
   "outputs": [],
   "source": [
    "# YOUR CODE HERE\n"
   ]
  },
  {
   "cell_type": "markdown",
   "id": "9aaf9282-535e-42b3-8140-8bfaaac2153c",
   "metadata": {},
   "source": [
    "---\n",
    "\n",
    "You can remove variables from the global environment."
   ]
  },
  {
   "cell_type": "code",
   "execution_count": null,
   "id": "8e07d2c5-8b4b-48ed-a953-86c2ce753209",
   "metadata": {},
   "outputs": [],
   "source": [
    "# Remove a single variable\n",
    "rm(year)\n",
    "\n",
    "# Remove all variables in the global environment\n",
    "rm(list = ls())"
   ]
  },
  {
   "cell_type": "markdown",
   "id": "56cc682b-062c-4dbf-827b-5af4b5b73aca",
   "metadata": {},
   "source": [
    "⚠️ You cannot undo removing a variable. You must instead re-create the variable.\n",
    "\n",
    "If you want to rename a variable, the easiest thing to do is create a variable with the new name and remove the old variable.\n"
   ]
  },
  {
   "cell_type": "code",
   "execution_count": null,
   "id": "98ea3594-2f3e-4517-9d1d-5cf62dd56492",
   "metadata": {},
   "outputs": [],
   "source": [
    "# Variable storing the population of Mexico\n",
    "pop <- 126\n",
    "\n",
    "# Rename to be more informative\n",
    "pop_millions <- pop\n",
    "\n",
    "# Print it to confirm that it holds the value of pop\n",
    "pop_millions\n",
    "\n",
    "# Remove the old variable\n",
    "rm(pop)\n",
    "\n",
    "# Print out a list of current variables\n",
    "ls()"
   ]
  },
  {
   "cell_type": "markdown",
   "id": "d42f682b-5138-42c0-886b-1ca5f90d77c7",
   "metadata": {},
   "source": [
    "💡`ls()` and `rm()` are both **functions**, which are commands that generate some output. We will learn several functions across the workshop. The best way to learn and remember functions in R is it to Google them!"
   ]
  },
  {
   "cell_type": "markdown",
   "id": "fb879e14-80f7-4fc5-8dc4-783106f29489",
   "metadata": {},
   "source": [
    "## Creating Vectors\n",
    "\n",
    "Most of the time, we want to store multiple values. For example, I might want to record the population in Mexico from 2018 to 2022. **Vectors** can store multiple values as long as they're the same type (all numeric, all characters etc).\n",
    "\n",
    "To create a vector, you use the `c()` function, which stands for concatenate (meaning combine)."
   ]
  },
  {
   "cell_type": "code",
   "execution_count": null,
   "id": "2f0f8fd6-6047-4c83-b175-d21a55022e12",
   "metadata": {},
   "outputs": [],
   "source": [
    "# Create a vector with the approx population of Mexico for 5 years  \n",
    "c(123, 124, 125, 126, 127)\n",
    "\n",
    "# As chance would have it, Mexico's population has increased by\n",
    "# about 1 million each year from 2018 to 2022"
   ]
  },
  {
   "cell_type": "markdown",
   "id": "f0f4f909-b1c9-4a77-a9be-f42d8c13ffc4",
   "metadata": {},
   "source": [
    "Vectors are assigned to variables using the same assignment operator (\\<-) that we used for single value variables."
   ]
  },
  {
   "cell_type": "code",
   "execution_count": null,
   "id": "9f6955ea-2ed1-4f74-8632-47aa0bd72573",
   "metadata": {},
   "outputs": [],
   "source": [
    "# Save the population counts to a vector\n",
    "pop_mexico <- c(123, 124, 125, 126, 127)\n",
    "pop_mexico"
   ]
  },
  {
   "cell_type": "markdown",
   "id": "28e78607-e0d5-490e-b244-3481f947209a",
   "metadata": {},
   "source": [
    "If we do something to the values in a vector, R applies that operation to each item in the vector."
   ]
  },
  {
   "cell_type": "code",
   "execution_count": null,
   "id": "09d4698d-a607-4cb7-97ff-b3eae34a8002",
   "metadata": {},
   "outputs": [],
   "source": [
    "# Multiple the values in pop_mexico by 1 million\n",
    "pop_mexico * 1000000\n",
    "\n",
    "# You forgot to count 2 million people - add them to our counts\n",
    "pop_mexico + 2"
   ]
  },
  {
   "cell_type": "markdown",
   "id": "865971fd-3b34-45f3-9683-13f5f570603c",
   "metadata": {},
   "source": [
    "## Functions\n",
    "\n",
    "As well as mathematical operations, we can apply **functions** to vectors, for example the function `length()`."
   ]
  },
  {
   "cell_type": "code",
   "execution_count": null,
   "id": "cdade17a-dd8e-4b9e-bcac-43fcb80cd800",
   "metadata": {},
   "outputs": [],
   "source": [
    "length(pop_mexico)"
   ]
  },
  {
   "cell_type": "markdown",
   "id": "fe18f8c9-8a92-4916-8f9d-5a33f366b28c",
   "metadata": {},
   "source": [
    "More generally, functions are commands that take an input and return some output. They are identified by the trailing brackets. Inside the brackets go:\n",
    "\n",
    "1.  **input** - the thing that the function is doing something to\n",
    "\n",
    "2.  **arguments** - modifications we make to the function (the first argument is usually the input)\n",
    "\n",
    "🔔 What is the **input** for the `length()` function?"
   ]
  },
  {
   "cell_type": "code",
   "execution_count": null,
   "id": "fe1c023a-5951-47dd-bf65-46f98f222bd0",
   "metadata": {},
   "outputs": [],
   "source": [
    "length(pop_mexico)"
   ]
  },
  {
   "cell_type": "markdown",
   "id": "f2fe0b59-2599-4075-b290-d5e12f35f49d",
   "metadata": {},
   "source": [
    "⚠️ Not all functions have inputs or arguments - for example, the `ls()` function doesn't require an input but still gives us an output."
   ]
  },
  {
   "cell_type": "code",
   "execution_count": null,
   "id": "0315ba34-3c8f-4c7c-96de-6392a8d5dcc2",
   "metadata": {},
   "outputs": [],
   "source": [
    "ls()"
   ]
  },
  {
   "cell_type": "markdown",
   "id": "5836128f-cb9c-4977-b167-9956e7879c98",
   "metadata": {},
   "source": [
    "We can modify functions by changing the **arguments** in the function. The function `seq()` has several arguments, which we can look at in the help page."
   ]
  },
  {
   "cell_type": "code",
   "execution_count": null,
   "id": "e0da3875-d5af-4853-b8ba-fa4cc87321df",
   "metadata": {},
   "outputs": [],
   "source": [
    "# look up what the seq() functions does and what arguments it uses\n",
    "?seq"
   ]
  },
  {
   "cell_type": "markdown",
   "id": "f578c1b7-93eb-4ab3-a7e3-1bc8999329ed",
   "metadata": {},
   "source": [
    "## Data frames\n",
    "\n",
    "**Vectors** are variables that store multiple values of the same type (all numbers or all words). Most of the time, we want to work with data that have multiple variables - we call this **multidimensional data**. In R, we use **data frames** to store multidimensional data.\n",
    "\n",
    "In R language, a data frame is an object containing multiple vectors of the same length. The values in a given vector are all the same type, but the vectors may each hold a different type of value. In everyday language, a data frame is a collection of variables (columns). Each variable contains the same number of observations (rows).\n",
    "\n",
    "![](https://r4ds.hadley.nz/images/tidy-1.png \"Test\")\n"
   ]
  },
  {
   "cell_type": "markdown",
   "id": "312719dd-db24-42cf-86b7-36981d6ee525",
   "metadata": {},
   "source": [
    "### 🥊 Challenge 2: Your own data\n",
    "\n",
    "Think of an example of data you have worked with. What are the observations (the unit of measurement)? What are the variables (the information being measured)?\n",
    "\n",
    "⚠️ Data frames are not the only way to store multidimensional data in R - but they are the most common and easiest to work with."
   ]
  },
  {
   "cell_type": "markdown",
   "id": "4ba688d0-34b1-4a7e-bc5d-e96032358c7d",
   "metadata": {},
   "source": [
    "## Import data\n",
    "\n",
    "You can create a data frame in R and fill it with values. Normally though, you **import** data and save it as a data frame. You can import many different types of files into R (eg. excel sheets, csv files, dta files). Today we will import a csv file.\n"
   ]
  },
  {
   "cell_type": "code",
   "execution_count": null,
   "id": "8fa50c61-3bf5-4187-ad03-9488ce73daf7",
   "metadata": {},
   "outputs": [],
   "source": [
    "# Import csv file \n",
    "gap <- read.csv(\"gapminder.csv\")"
   ]
  },
  {
   "cell_type": "markdown",
   "id": "9ce3922d-0cdc-47e3-9f9a-20ed4285b269",
   "metadata": {},
   "source": [
    "🔔 The code above returned an error - why do you think this is?\n",
    "\n",
    "When we read in data, we need to specify the **relative file path**. This means, from our **current working directory**, how do we get to the file we want to import."
   ]
  },
  {
   "cell_type": "code",
   "execution_count": null,
   "id": "cdc8f2a6-8bfb-4f88-b826-62b7dafb1d52",
   "metadata": {},
   "outputs": [],
   "source": [
    "# Print out our current working directory\n",
    "getwd()\n",
    "\n",
    "# Read in gap data using a relative file path\n",
    "gap <- read.csv(\"../data/gapminder.csv\")"
   ]
  },
  {
   "cell_type": "markdown",
   "id": "22c6a92e-10f0-4e00-bf5d-e0dfd36e6328",
   "metadata": {},
   "source": [
    "💡 Within a file path, a period \".\" means \"in this directory\". A double period \"..\" means \"go back one directory\".\n",
    "\n",
    "⚠️ In R Notebooks, the working directory is always the directory in which the notebook is saved in - so all data needs to be read in relative to that directory. In R Scripts, you can change the working directory at the start of your script by using the `setwd()` function.\n",
    "\n",
    "After importing data, the first thing to check is if the data looks like you expected it to."
   ]
  },
  {
   "cell_type": "code",
   "execution_count": null,
   "id": "abd4fad2-8553-4826-a727-0e930dc2cd29",
   "metadata": {},
   "outputs": [],
   "source": [
    "# Examine our data\n",
    "head(gap)"
   ]
  },
  {
   "cell_type": "markdown",
   "id": "7c842c54-cd22-46af-b240-6450cc471908",
   "metadata": {},
   "source": [
    "## Subsetting data frames\n",
    "\n",
    "We often want to work with **subsets** of our data. A subset is a portion or slice of our data. It could be a subset of rows, for example, if we wanted to see all rows for the country Argentina. It could also be a subset of columns, for example, if we wanted to see only population and year. It could also be a combination of rows and columns. We do this by **indexing**.\n",
    "\n",
    "Indexing refers to specifying the rows or columns that we want to extract from an object. It is done using **square brackets**. For a single vector, we extract a specific element by providing the index of that value (index means its place in the vector)."
   ]
  },
  {
   "cell_type": "code",
   "execution_count": null,
   "id": "6dea81f8-fddd-4309-b156-4c4dcdd41f72",
   "metadata": {},
   "outputs": [],
   "source": [
    "# Create a vector with years from 2000 to 2010 in \n",
    "years <- 2000:2010\n",
    "years\n",
    "\n",
    "# Extract the 5th element of that vector\n",
    "years[5]\n",
    "\n",
    "# Extract the 12th element of that vector - what happens?\n",
    "years[12]"
   ]
  },
  {
   "cell_type": "markdown",
   "id": "43863f2d-72ca-499b-9018-a1c8585040d2",
   "metadata": {},
   "source": [
    "Because data frames are two dimensional, we can specify the rows and the columns we want. The format is: **data.frame[rows, columns]**. By leaving either rows or columns blank, that selects all of them.\n",
    "\n",
    "To extract a single variable, we specify the variable name withing the square brackets. This returns all the rows but only one column."
   ]
  },
  {
   "cell_type": "code",
   "execution_count": null,
   "id": "5d69f3d6-42a8-4da3-bbbc-6dfe162e1426",
   "metadata": {},
   "outputs": [],
   "source": [
    "# Extract a single variable using the indexing method \n",
    "gap[\"pop\"]"
   ]
  },
  {
   "cell_type": "markdown",
   "id": "e6950365-71a3-47cb-9611-6075a2c5530c",
   "metadata": {},
   "source": [
    "We can index **multiple** columns. This is done by providing a vector of variable names inside the square brackets."
   ]
  },
  {
   "cell_type": "code",
   "execution_count": null,
   "id": "b0d0988b-da10-4f01-a9c6-6aae8f834a46",
   "metadata": {},
   "outputs": [],
   "source": [
    "# Extract multiple variables using the indexing method\n",
    "gap[c(\"pop\", \"year\")]\n",
    "\n",
    "# We can also define the vector of names first\n",
    "variables <- c(\"pop\" , \"year\", \"lifeExp\")\n",
    "gap[variables]"
   ]
  },
  {
   "cell_type": "markdown",
   "id": "9ca990c5-a8ee-4221-be69-20ee3e0f1866",
   "metadata": {},
   "source": [
    "## 🎬 Demo\n",
    "\n",
    "As well as subsetting columns, we can also subset rows. To do this, we use **conditional statements** to tell R which rows we want to return.\n",
    "\n",
    "🔔 Run the chunk of code below. What do you think we are doing?"
   ]
  },
  {
   "cell_type": "code",
   "execution_count": null,
   "id": "24fae508-3c16-475c-adbb-9f3b8d506303",
   "metadata": {},
   "outputs": [],
   "source": [
    "library(dplyr)"
   ]
  },
  {
   "cell_type": "code",
   "execution_count": null,
   "id": "3cfae057-44b2-405d-a349-4a495a6e918e",
   "metadata": {},
   "outputs": [],
   "source": [
    "gap %>%\n",
    "  filter(year == 2007 | year == 1952) %>%\n",
    "  select(gdpPercap, lifeExp, continent, year) "
   ]
  },
  {
   "cell_type": "markdown",
   "id": "f89cda31-1feb-41c5-9119-6b84870736c9",
   "metadata": {},
   "source": [
    "This concludes our brief introduction into R!\n",
    "\n",
    "This introduction basically consisted of creating different kinds of variables. But what if we want to _do_ things with those variables? R provides many tools for additional analyses you can conduct on, for example, your dataframe. We encourage you to check out [R-Fundamentals](https://github.com/dlab-berkeley/R-Fundamentals) to learn more about these additional functionalities!"
   ]
  }
 ],
 "metadata": {
  "kernelspec": {
   "display_name": "R",
   "language": "R",
   "name": "ir"
  },
  "language_info": {
   "codemirror_mode": "r",
   "file_extension": ".r",
   "mimetype": "text/x-r-source",
   "name": "R",
   "pygments_lexer": "r",
   "version": "4.2.1"
  }
 },
 "nbformat": 4,
 "nbformat_minor": 5
}
