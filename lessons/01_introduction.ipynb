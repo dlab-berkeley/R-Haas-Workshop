{
 "cells": [
  {
   "cell_type": "markdown",
   "id": "9af42e1e-d6cd-4b20-82a4-2ed0117a3aae",
   "metadata": {
    "tags": []
   },
   "source": [
    "# R Haas Departmental Workshop\n",
    "\n",
    "The goal of this Departmental Workshop is to provide a light introduction to R. We aim to build up to data frames, which are one of the most commonly used data structures in R."
   ]
  },
  {
   "cell_type": "markdown",
   "id": "607ddc51-fd64-4e83-a77e-efc34bd18ab7",
   "metadata": {},
   "source": [
    "## Section 1: Jupyter Notebooks\n",
    "\n",
    "This course will be using a Jupyter Notebook to interact with R.  The bit of extra setup is well worth it because the Notebook provides code completion and other helpful features.\n",
    "\n",
    "Notebook files have the extension \".ipynb\" to distinguish them from other Python (e.g., \".py\") files.\n",
    "\n",
    "\n",
    "### Open Jupyter Notebook on Haas DataHub\n",
    "\n",
    "We *strongly* recommend using the Haas DataHub to run the materials for these lessons. You can access the DataHub by clicking this button:\n",
    "\n",
    "[![DataHub](https://img.shields.io/badge/launch-datahub-blue)](https://mba200a-fall-2022.haastech.org/hub/user-redirect/git-pull?repo=https%3A%2F%2Fgithub.com%2Fdlab-berkeley%2FR-Haas-Workshop&urlpath=tree%2FR-Haas-Workshop%2Flessons%2F01_introduction.ipynb&branch=main)\n",
    "\n",
    "Some users may have to click the link twice if the materials do not load initially.\n",
    "\n",
    "The DataHub downloads this repository, along with any necessary packages, and allows you to run the materials in an instance on UC Berkeley's servers. No installation is needed from your end - you only need an internet browser and a CalNet ID to log in. By using the DataHub, you can save your work and come back to it at any time.\n",
    "\n",
    "### Navigating in Jupyter Notebook\n",
    "\n",
    "Jupyter Notebooks have more useful features for interactive use than a standard interpreter, but they work in the same basic way: you type things and then execute them.\n",
    "\n",
    "Unlike many graphical systems, you don't need to press a button to run your code! Instead, **you typically run code using Shift-Enter**. This also moves you to the next box (or \"cell\") for code below the one you just ran.\n",
    "\n",
    "Using Jupyter notebooks has several advantages:\n",
    "\n",
    "- You can easily type, edit, and copy and paste blocks of code.\n",
    "- Tab complete allows you to easily access the names of things you are using and learn more about them.\n",
    "- It allows you to annotate your code with links, different sized text, bullets, etc., to make it more accessible to you and your collaborators.\n",
    "- It allows you to display figures next to the code that produces them to tell a complete story of the analysis.\n",
    "- The notebook is stored as JSON but can be saved as a .py file if you would like to run it from the Bash shell or a Python interpreter."
   ]
  },
  {
   "cell_type": "markdown",
   "id": "01a67f02-36b5-41ba-967a-bc318b55fe0b",
   "metadata": {
    "tags": []
   },
   "source": [
    "## Section 2: Variable Assignment\n",
    "\n",
    "We'll start our foray into R with variables, which are one of the most fundamental concepts in programming. A variable is simply a placeholder for another value.\n",
    "\n",
    "Try assigning the value \"5\" to the variable `number` and then run `number` in its own cell."
   ]
  },
  {
   "cell_type": "code",
   "execution_count": null,
   "id": "3bdf4a6c-6013-4655-85d7-e85426be39c8",
   "metadata": {},
   "outputs": [],
   "source": [
    "# The variable \"number\" is a placeholder for \"5\"\n",
    "number <- 5"
   ]
  },
  {
   "cell_type": "code",
   "execution_count": null,
   "id": "0f7e4282-41c1-48f6-88df-f9ce583a7ebe",
   "metadata": {},
   "outputs": [],
   "source": [
    "number"
   ]
  },
  {
   "cell_type": "code",
   "execution_count": null,
   "id": "248b7094-601f-4f08-bcd9-f8b2c8fc6422",
   "metadata": {},
   "outputs": [],
   "source": [
    "# You can also use the '=' operator to do variable assignment. \n",
    "number = 5"
   ]
  },
  {
   "cell_type": "code",
   "execution_count": null,
   "id": "31d4ae3e-8f6f-44fd-892c-eec4acb39604",
   "metadata": {},
   "outputs": [],
   "source": [
    "number"
   ]
  },
  {
   "cell_type": "markdown",
   "id": "e7feb352-8847-4a15-ba65-60aac0ed04b1",
   "metadata": {},
   "source": [
    "There are subtle differences between '<-' and '=', which won't matter in most cases. However, using '<-' is considered good code style. You want your code to adhere to good stylistic practices, since that makes it easier to read and use by other users."
   ]
  },
  {
   "cell_type": "code",
   "execution_count": null,
   "id": "4014839b-48d8-496c-8eec-83573813ad09",
   "metadata": {},
   "outputs": [],
   "source": [
    "# You can perform basic arithmetic in R\n",
    "number + 1\n",
    "number - 2\n",
    "number * 3\n",
    "number / 4"
   ]
  },
  {
   "cell_type": "markdown",
   "id": "e654914b-f52a-4b5b-a5e3-74b8c263ba18",
   "metadata": {},
   "source": [
    "Use a hashtag to comment your code (e.g., write notes to your future self and your collaborators) to help keep your script organized. "
   ]
  },
  {
   "cell_type": "markdown",
   "id": "ffa988f6-cd35-4502-8197-8356e3d81901",
   "metadata": {},
   "source": [
    "## Section 3: Functions and Arguments\n",
    "\n",
    "A recurring theme in programming is **abstraction**. We use a placeholder to _represent_ some other value or operation to make our code, so that we don't have to keep typing out those values or operations repeatedly. Variables are an abstraction of values: for example, rather than always having to type out the value for pi, we can store it in a variable called `pi`, and simply reference that. In the same vein, **functions** are abstractions of sometimes complex actions.\n",
    "\n",
    "**Functions** perform actions on inputs. They are followed by trailing round parentheses.\n",
    "\n",
    "**Arguments** are the inputs - values, expressions, text, entire datasets, etc. You tell a function what arguments it needs inside the parentheses. Sometimes, these arguments are \"named\". This is helpful when you need to enter multiple arguments: the names tell R which arguments correspond to what variables you're passing into the function.\n",
    "\n",
    "Let's explore some functions that are **built-in** to R. You get them for free just by having R installed."
   ]
  },
  {
   "cell_type": "code",
   "execution_count": null,
   "id": "98ea3594-2f3e-4517-9d1d-5cf62dd56492",
   "metadata": {},
   "outputs": [],
   "source": [
    "# Use the ls() function to see all of the variables you have defined.\n",
    "# Notice that ls() does not take any arguments!\n",
    "ls()"
   ]
  },
  {
   "cell_type": "code",
   "execution_count": null,
   "id": "511cecac-ba2d-4e5d-b479-8529667a4cb4",
   "metadata": {},
   "outputs": [],
   "source": [
    "# You can use the \"TAB\" key to autocomplete a variable.\n",
    "# Place your cursor after the 'b' in 'numb' below and press TAB.\n",
    "# This works for variables and functions alike.\n",
    "numb"
   ]
  },
  {
   "cell_type": "code",
   "execution_count": null,
   "id": "2f0f8fd6-6047-4c83-b175-d21a55022e12",
   "metadata": {},
   "outputs": [],
   "source": [
    "# The class() function tells the data class/type of the variable and requires one argument\n",
    "class(number)"
   ]
  },
  {
   "cell_type": "code",
   "execution_count": null,
   "id": "2804d25e-6793-48d6-99fb-8ef62bc5d575",
   "metadata": {},
   "outputs": [],
   "source": [
    "# Removing Variables. rm() will remove a variable:\n",
    "rm(number)"
   ]
  },
  {
   "cell_type": "code",
   "execution_count": null,
   "id": "9f6955ea-2ed1-4f74-8632-47aa0bd72573",
   "metadata": {},
   "outputs": [],
   "source": [
    "ls()"
   ]
  },
  {
   "cell_type": "code",
   "execution_count": null,
   "id": "53672629-a0a8-4b5c-93ab-0b219a9235ca",
   "metadata": {},
   "outputs": [],
   "source": [
    "number # Error"
   ]
  },
  {
   "cell_type": "code",
   "execution_count": null,
   "id": "09d4698d-a607-4cb7-97ff-b3eae34a8002",
   "metadata": {},
   "outputs": [],
   "source": [
    "# Remove all variables with rm(list = ls()).\n",
    "# Notice that this is the first function we're using with a named argument!\n",
    "number1 <- 2\n",
    "number2 <- 3\n",
    "ls()"
   ]
  },
  {
   "cell_type": "code",
   "execution_count": null,
   "id": "26893b8d-7b16-4963-889c-aec0db018260",
   "metadata": {},
   "outputs": [],
   "source": [
    "rm(list = ls()) \n",
    "ls()"
   ]
  },
  {
   "cell_type": "markdown",
   "id": "9b33ede4-80aa-41e4-8fb4-12a5af921d15",
   "metadata": {},
   "source": [
    "### Challenge 1: Variable Assignment\n",
    "Define three variables and then write a mathematical expression using only those variables.\n",
    "\n"
   ]
  },
  {
   "cell_type": "code",
   "execution_count": null,
   "id": "62463f31-8827-47cb-9fc9-493a5f364083",
   "metadata": {},
   "outputs": [],
   "source": [
    "# YOUR CODE HERE"
   ]
  },
  {
   "cell_type": "markdown",
   "id": "046acbb2-d091-4337-a1ab-125258603675",
   "metadata": {
    "tags": []
   },
   "source": [
    "##  Section 4: Data Types\n",
    "\n",
    "There are five main types of data we will work with in R:\n",
    "1. numeric: decimals (the default for ALL numbers in R).\n",
    "2. integer: whole numbers (positive and negative, including zero).\n",
    "3. character: text strings (always wrapped in quotations).\n",
    "4. logical: TRUE or FALSE (1 or 0).\n",
    "5. factor: nominal or ordinal categorical type."
   ]
  },
  {
   "cell_type": "markdown",
   "id": "98beb970-9467-4e67-a3d6-1531051891be",
   "metadata": {},
   "source": [
    "### Section 4.1: Numerics\n",
    "\n",
    "Let's assign 5 to 'number' and check its class. "
   ]
  },
  {
   "cell_type": "code",
   "execution_count": null,
   "id": "9b5d8d22-f953-48e9-b18b-08ccececb9f8",
   "metadata": {},
   "outputs": [],
   "source": [
    "number <- 5\n",
    "number\n",
    "class(number)"
   ]
  },
  {
   "cell_type": "markdown",
   "id": "1623896b-9849-4cc4-a26b-fa81f829dadb",
   "metadata": {
    "tags": []
   },
   "source": [
    "### Section 4.2: Integers\n",
    "\n",
    "We can coerce variables, or force them to change type. For example, let's convert  'number' to integer type with the `as.integer()` function:"
   ]
  },
  {
   "cell_type": "code",
   "execution_count": null,
   "id": "d1a5b20d-2fd5-4710-97eb-0221c5bcc5b8",
   "metadata": {},
   "outputs": [],
   "source": [
    "number_int <- as.integer(number)\n",
    "number_int\n",
    "class(number_int)"
   ]
  },
  {
   "cell_type": "markdown",
   "id": "5e437454-4ceb-47b9-bea5-5dc83fc0f7ff",
   "metadata": {},
   "source": [
    "### Section 4.3: Characters\n",
    "\n",
    "The character data type consists of text. The key to this data type is the usage of quotes (single or double) to indicate that we're dealing with text. Let's try it out:"
   ]
  },
  {
   "cell_type": "code",
   "execution_count": null,
   "id": "e2744193-3430-4807-9297-8725f41cc8d7",
   "metadata": {},
   "outputs": [],
   "source": [
    "welcome <- \"Welcome to the D-Lab\"\n",
    "class(welcome)"
   ]
  },
  {
   "cell_type": "code",
   "execution_count": null,
   "id": "fab7fb11-eb4e-4ce5-853a-6cf4e2cc7e91",
   "metadata": {},
   "outputs": [],
   "source": [
    "# Single and double quotes work similarly:\n",
    "contraction <- 'I am hungry.'\n",
    "contraction\n",
    "\n",
    "contraction <- \"I am hungry.\"\n",
    "contraction"
   ]
  },
  {
   "cell_type": "code",
   "execution_count": null,
   "id": "0bf5bba7-c7fe-48ab-b8d7-3c363b20c070",
   "metadata": {},
   "outputs": [],
   "source": [
    "# You can nest single quotes inside of double quotes:\n",
    "contraction <- \"I'm hungry\"\n",
    "contraction"
   ]
  },
  {
   "cell_type": "markdown",
   "id": "2f92cc47-7342-4007-b04a-70497625109f",
   "metadata": {},
   "source": [
    "However, you cannot nest single quotes inside of single quotes."
   ]
  },
  {
   "cell_type": "markdown",
   "id": "096d0624-9339-4176-89c4-0fdb233da84f",
   "metadata": {},
   "source": [
    "### Section: 4.4 Logicals\n",
    "\n",
    "Programming often relies on making decisions _conditional_ on something being true or false. Logical data types provide the infrastructure to allow for these kinds of control structures. \n",
    "\n",
    "Specifically, logical data consists of only two values: TRUE (or 1) and FALSE (or 0)."
   ]
  },
  {
   "cell_type": "code",
   "execution_count": null,
   "id": "f4cb7bc8-835b-4db5-ad5e-720f88cb5d9c",
   "metadata": {},
   "outputs": [],
   "source": [
    "class(TRUE)\n",
    "class(FALSE)"
   ]
  },
  {
   "cell_type": "code",
   "execution_count": null,
   "id": "3c362aab-102a-4aeb-afbc-1acb80838014",
   "metadata": {},
   "outputs": [],
   "source": [
    "# Since TRUE and FALSE are stored as 1 and 0, they take on mathematical properties:\n",
    "TRUE + 2\n",
    "FALSE - 4"
   ]
  },
  {
   "cell_type": "code",
   "execution_count": null,
   "id": "adbff01b-d2fc-4a8d-9c08-015dbcfbf76a",
   "metadata": {},
   "outputs": [],
   "source": [
    "# Boolean data types evaluate whether a statement is TRUE. Check the following:\n",
    "FALSE < TRUE # less than\n",
    "TRUE >= TRUE # greater than or equal to\n",
    "FALSE == FALSE # equivalent to (equal to)\n",
    "\"Mac\" == \"mac\" # R is case sensitive\n",
    "FALSE != FALSE # not equivalent to (not equal to)\n",
    "\"PC\" != \"Windows\""
   ]
  },
  {
   "cell_type": "code",
   "execution_count": null,
   "id": "30d11659-47ca-4186-b7c2-04cc4030c6a6",
   "metadata": {},
   "outputs": [],
   "source": [
    "# Boolean 'and' (all conditions must be satisfied):\n",
    "TRUE & TRUE \n",
    "TRUE & FALSE"
   ]
  },
  {
   "cell_type": "code",
   "execution_count": null,
   "id": "90f82467-d4fc-4214-89ca-d88df2dbebdc",
   "metadata": {},
   "outputs": [],
   "source": [
    "# Boolean \"or\" (just one condition must be satisfied):\n",
    "TRUE | TRUE \n",
    "TRUE | FALSE"
   ]
  },
  {
   "cell_type": "markdown",
   "id": "ac9c23b1-5583-488b-912f-f40ecd86cfcb",
   "metadata": {},
   "source": [
    "## Section 4.5: Factors\n",
    "\n",
    "A **factor** variable is a set of categorical or ordinal values. We won't cover factors in this workshop, but check out our [Fundamentals](https://github.com/dlab-berkeley/R-Fundamentals) workshop to learn more!"
   ]
  },
  {
   "cell_type": "markdown",
   "id": "2a25b1d4-c469-4782-a639-88312a8d3293",
   "metadata": {},
   "source": [
    "### Challenge 2: Data type coercion\n",
    "\n",
    "Like `as.integer`, other \"as dot\" functions exist as well, such as `as.numeric`, `as.character`, `as.logical`, and `as.factor`.\n",
    "\n",
    "1. Define three variables: one numeric, one character, and one logical"
   ]
  },
  {
   "cell_type": "code",
   "execution_count": null,
   "id": "ea825ebb-fdfc-482a-969e-972602535da4",
   "metadata": {},
   "outputs": [],
   "source": [
    "# YOUR CODE HERE"
   ]
  },
  {
   "cell_type": "markdown",
   "id": "ca66a92a-4a4a-4e5c-803b-fe9f52105996",
   "metadata": {},
   "source": [
    "2. Can you convert numeric to integer type?\n",
    "3. Convert numeric to logical?\n",
    "4. Convert numeric to character?\n",
    "5. Convert logical to character?\n",
    "6. Convert character to numeric?\n"
   ]
  },
  {
   "cell_type": "code",
   "execution_count": null,
   "id": "f895cfac-da37-4f39-a0ed-9a97b23b3b97",
   "metadata": {},
   "outputs": [],
   "source": [
    "# YOUR CODE HERE"
   ]
  },
  {
   "cell_type": "markdown",
   "id": "78f8d706-b91c-43ca-9e91-912f714bb58c",
   "metadata": {},
   "source": [
    "## Section 5: Data Structures\n",
    "\n",
    "Data structures are useful ways of representing and organizing data in R. There are several data structures we can construct, but we'll focus on two:\n",
    "\n",
    "1. `c()`: ordered groupings of the SAME type of data (called \"vectors\").\n",
    "2. `data.frame()`: an ordered group of equal-length vectors; think of an Excel spreadsheet, with rows and columns."
   ]
  },
  {
   "cell_type": "markdown",
   "id": "865971fd-3b34-45f3-9683-13f5f570603c",
   "metadata": {},
   "source": [
    "### Section 5.1: Vectors\n",
    "A vector is an ordered group of the *same* type of data. We can we can create vectors by \"concatenating\" data together with the `c()` function:\n"
   ]
  },
  {
   "cell_type": "code",
   "execution_count": null,
   "id": "cdade17a-dd8e-4b9e-bcac-43fcb80cd800",
   "metadata": {},
   "outputs": [],
   "source": [
    "vec <- c(2, 5, 8, 11, 14)\n",
    "vec"
   ]
  },
  {
   "cell_type": "markdown",
   "id": "fe18f8c9-8a92-4916-8f9d-5a33f366b28c",
   "metadata": {},
   "source": [
    "It does not matter what type the data is contained within the vector, as long as it is all the same:"
   ]
  },
  {
   "cell_type": "code",
   "execution_count": null,
   "id": "fe1c023a-5951-47dd-bf65-46f98f222bd0",
   "metadata": {},
   "outputs": [],
   "source": [
    "numeric_vector <- c(234, 31343, 78, 0.23, 0.0000002)\n",
    "numeric_vector"
   ]
  },
  {
   "cell_type": "code",
   "execution_count": null,
   "id": "ddfb3437-7334-4d51-a084-c030328a5bb3",
   "metadata": {},
   "outputs": [],
   "source": [
    "class(numeric_vector)\n",
    "length(numeric_vector) # There are five elements in this vector."
   ]
  },
  {
   "cell_type": "markdown",
   "id": "1e69a8d7-e02e-46de-b451-7b75b258b929",
   "metadata": {},
   "source": [
    "#### Indexing a vector\n",
    "To index a vector means to extract an element based on its position. For example, if we want to return just the third element from \"numeric_vector\", we would use square brackets to _index_ the third position:"
   ]
  },
  {
   "cell_type": "code",
   "execution_count": null,
   "id": "0315ba34-3c8f-4c7c-96de-6392a8d5dcc2",
   "metadata": {},
   "outputs": [],
   "source": [
    "numeric_vector[3]"
   ]
  },
  {
   "cell_type": "markdown",
   "id": "5836128f-cb9c-4977-b167-9956e7879c98",
   "metadata": {},
   "source": [
    "When we want a subset of entries, we can also use the colon operator to index multiple values in a row:"
   ]
  },
  {
   "cell_type": "code",
   "execution_count": null,
   "id": "e0da3875-d5af-4853-b8ba-fa4cc87321df",
   "metadata": {},
   "outputs": [],
   "source": [
    "colon_vector <- c(28:36)\n",
    "colon_vector "
   ]
  },
  {
   "cell_type": "markdown",
   "id": "f578c1b7-93eb-4ab3-a7e3-1bc8999329ed",
   "metadata": {},
   "source": [
    "Vectors can contain other types, too. Consider the following example:"
   ]
  },
  {
   "cell_type": "code",
   "execution_count": null,
   "id": "52e9c75d-46dd-46f7-beb2-6706ba4c877f",
   "metadata": {},
   "outputs": [],
   "source": [
    "character_vector <- c(\"Canada\", \"United States\", \"Mexico\")\n",
    "character_vector\n",
    "class(character_vector)"
   ]
  },
  {
   "cell_type": "markdown",
   "id": "e06e0085-29dc-4a8c-bfe3-e72850fe36a6",
   "metadata": {
    "tags": []
   },
   "source": [
    "## Section 6: Data frames\n",
    "\n",
    "Why do we need a data frame? Think about datasets that you have seen before. For example, suppose we collected data on the characteristics of D-Lab Workshop learners. We might want to know the age, degree program, previous familiarity with programming, research interests, and likely many other attributes (variables). \n",
    "\n",
    "This kind of dataset is multidimensional. We have one row for each participant and a number of columns for each attribute we collect data on. If we had forty participants and collected 10 attributes for each participant, then we would have a 40 by 10 dataset.\n",
    "\n",
    "The data structure in R that is most suited for this kind of problem is the data frame. \n",
    "A data frame is an ordered group of equal-length vectors. They are the most common type of data structure used for data analyses. Most of the time when we load real data into R, we are loading that data into a data frame. \n",
    "\n",
    "Since they are vectors, each column can only contain the same data type, but columns of different types can be lined up next to each other.\n",
    "\n",
    "Meanwhile, rows can contain heterogeneous data.\n",
    "\n",
    "Let's create a data frame capturing some information about countries:\n",
    "\n",
    "\n"
   ]
  },
  {
   "cell_type": "code",
   "execution_count": null,
   "id": "c7bc0222-70a0-4d65-9c38-2597892f9201",
   "metadata": {},
   "outputs": [],
   "source": [
    "countries <- c(\"Canada\", \"Mexico\", \"United States\")\n",
    "populations <- c(10, 20, 30)\n",
    "areas <- c(30, 10, 20)"
   ]
  },
  {
   "cell_type": "code",
   "execution_count": null,
   "id": "2c4fe859-e60b-4371-9cbd-7958b21a738c",
   "metadata": {},
   "outputs": [],
   "source": [
    "# We can create the data frame with the data.frame() function.\n",
    "# The equal-length vectors are the arguments.\n",
    "# Notice that the name of each variable becomes the name of the column.\n",
    "df <- data.frame(countries, populations, areas)\n",
    "df"
   ]
  },
  {
   "cell_type": "code",
   "execution_count": null,
   "id": "a9264331-254e-4ca8-bfde-a12786dfa7ef",
   "metadata": {},
   "outputs": [],
   "source": [
    "# If we wanted to change the column names, we can specify that with the function argument:\n",
    "df <- data.frame(country = countries, population = populations, area = areas)\n",
    "df"
   ]
  },
  {
   "cell_type": "code",
   "execution_count": null,
   "id": "747fb415-aabe-45cb-b575-3561fce15b86",
   "metadata": {},
   "outputs": [],
   "source": [
    "# Check the compact structure of the data frame:\n",
    "str(df)"
   ]
  },
  {
   "cell_type": "code",
   "execution_count": null,
   "id": "8add12d8-74e1-47ff-a32d-8deefaa075ca",
   "metadata": {},
   "outputs": [],
   "source": [
    "# View the dimensions (nrow x ncol) of the data frame:\n",
    "dim(df) "
   ]
  },
  {
   "cell_type": "code",
   "execution_count": null,
   "id": "0e03fbdf-bc3c-4f4f-bbaf-47a0c9a3611e",
   "metadata": {},
   "outputs": [],
   "source": [
    "# View column names:\n",
    "colnames(df)"
   ]
  },
  {
   "cell_type": "code",
   "execution_count": null,
   "id": "e9f495f5-760a-4cd5-afed-6d7a8b0541cb",
   "metadata": {},
   "outputs": [],
   "source": [
    "# View row names (we did not change these and they default to character type):\n",
    "rownames(df)\n",
    "class(rownames(df))"
   ]
  },
  {
   "cell_type": "code",
   "execution_count": null,
   "id": "fe858c9d-a924-4726-bb96-2a4fc9829fe6",
   "metadata": {},
   "outputs": [],
   "source": [
    "# You can extract a single column with the $ operator:\n",
    "df$country"
   ]
  },
  {
   "cell_type": "code",
   "execution_count": null,
   "id": "f1b05d05-8c51-466e-a926-0294da1f777b",
   "metadata": {},
   "outputs": [],
   "source": [
    "# The $ operator can also be used to create new columns:\n",
    "df$density <- df$population / df$area\n",
    "df"
   ]
  },
  {
   "cell_type": "markdown",
   "id": "a5a130b4-7880-4df0-8506-ce4491fae36b",
   "metadata": {
    "tags": []
   },
   "source": [
    "### Challenge 3: Make your own data frame.\n",
    "1. Create a data frame that contains four different food items and three attributes for each: name, price, and quantity.\n",
    "2. Add a fourth column that calculates the total cost for each food item.\n",
    "3. What function could you use to calculate the total cost of all the fruits combined?"
   ]
  },
  {
   "cell_type": "code",
   "execution_count": null,
   "id": "721737c9-599d-4832-b538-2708a885a422",
   "metadata": {},
   "outputs": [],
   "source": [
    "# YOUR CODE HERE"
   ]
  },
  {
   "cell_type": "markdown",
   "id": "f89cda31-1feb-41c5-9119-6b84870736c9",
   "metadata": {},
   "source": [
    "This concludes our brief introduction into R!\n",
    "\n",
    "This introduction basically consisted of creating different kinds of variables. But what if we want to _do_ things with those variables? R provides many tools for additional analyses you can conduct on, for example, your dataframe. We encourage you to check out [R-Fundamentals](https://github.com/dlab-berkeley/R-Fundamentals) to learn more about these additional functionalities!"
   ]
  }
 ],
 "metadata": {
  "kernelspec": {
   "display_name": "R",
   "language": "R",
   "name": "ir"
  },
  "language_info": {
   "codemirror_mode": "r",
   "file_extension": ".r",
   "mimetype": "text/x-r-source",
   "name": "R",
   "pygments_lexer": "r",
   "version": "4.1.1"
  }
 },
 "nbformat": 4,
 "nbformat_minor": 5
}
